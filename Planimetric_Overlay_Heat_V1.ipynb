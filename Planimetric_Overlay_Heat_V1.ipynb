{
 "cells": [
  {
   "cell_type": "code",
   "execution_count": 1,
   "id": "5eb69f99",
   "metadata": {},
   "outputs": [],
   "source": [
    "#Import Necessary Libraries\n",
    "%load_ext autoreload\n",
    "%autoreload 2\n",
    "import json\n",
    "import numpy as np\n",
    "import pandas as pd\n",
    "import geopandas as gpd\n",
    "import plotly as px\n",
    "import plotly.graph_objects as go\n",
    "from plotly.subplots import make_subplots\n",
    "import pylab as pl\n",
    "from scipy.stats import zscore, sem\n",
    "import datetime as dt\n",
    "import utils\n",
    "import fiona \n",
    "\n",
    "from shapely.geometry import Point\n",
    "from shapely.geometry import shape\n",
    "from shapely.geometry import Polygon, LineString\n",
    "from shapely import wkt\n",
    "from tqdm.notebook import tqdm_notebook"
   ]
  },
  {
   "cell_type": "code",
   "execution_count": 2,
   "id": "f481577b",
   "metadata": {},
   "outputs": [],
   "source": [
    "#Load Variables:\n",
    "start_year = 2017\n",
    "end_year = 2021\n",
    "mapbox_accesstoken = None"
   ]
  },
  {
   "cell_type": "markdown",
   "id": "b2640b8d",
   "metadata": {},
   "source": [
    "# Load NASA LANDSAT Temperature Data"
   ]
  },
  {
   "cell_type": "code",
   "execution_count": 4,
   "id": "0c26f080",
   "metadata": {},
   "outputs": [
    {
     "data": {
      "application/vnd.jupyter.widget-view+json": {
       "model_id": "a556d95c3ce84911824eeb4aaff6d586",
       "version_major": 2,
       "version_minor": 0
      },
      "text/plain": [
       "  0%|          | 0/5 [00:00<?, ?it/s]"
      ]
     },
     "metadata": {},
     "output_type": "display_data"
    },
    {
     "name": "stdout",
     "output_type": "stream",
     "text": [
      "done\n",
      "check\n",
      "                                      Coord    Year     ST_B10       Long  \\\n",
      "0   (-74.25532529025433, 40.50436242448614)  2021.0  24.463801 -74.255325   \n",
      "1   (-74.25532529025433, 40.50463191907137)  2021.0  24.579444 -74.255325   \n",
      "2   (-74.25532529025433, 40.50490141365661)  2021.0  24.674578 -74.255325   \n",
      "3  (-74.25532529025433, 40.505170908241844)  2021.0  24.768574 -74.255325   \n",
      "4  (-74.25532529025433, 40.505440402827084)  2021.0  24.954286 -74.255325   \n",
      "\n",
      "         Lat  \n",
      "0  40.504362  \n",
      "1  40.504632  \n",
      "2  40.504901  \n",
      "3  40.505171  \n",
      "4  40.505440  \n"
     ]
    }
   ],
   "source": [
    "#Load the .geo column as a json\n",
    "heat_all_landsats = pd.DataFrame(columns=['Year', 'ST_B10', 'Long', 'Lat'],dtype=\"float\")\n",
    "for year in tqdm_notebook(np.arange(start_year, end_year+1)):\n",
    "    year_landsat_df = pd.read_csv(r'data\\NYC_Landsat_HeatData_062722/NYC_CD_Heat_{}_per_pixel_from_5_to_9.csv'.format(year))\n",
    "    latitudes = [json.loads(pixel)['coordinates'][1] for pixel in year_landsat_df['.geo']]\n",
    "    longitudes = [json.loads(pixel)['coordinates'][0] for pixel in year_landsat_df['.geo']]\n",
    "\n",
    "year_landsat_df['Long'] = longitudes\n",
    "year_landsat_df['Lat']  = latitudes\n",
    "year_landsat_df['Year'] = year\n",
    "year_landsat_df = year_landsat_df.rename({'ST_B10_{}'.format(year):'ST_B10'}, axis=1)\n",
    "\n",
    "#Apprend all the new info. to the df. \n",
    "heat_all_landsats = heat_all_landsats.append(year_landsat_df[['Year','ST_B10','Long','Lat']])\n",
    "\n",
    "#Average out\n",
    "heat_all_landsats['Coord'] = list(zip(heat_all_landsats['Long'], heat_all_landsats['Lat']))\n",
    "print(\"done\")\n",
    "heat_all_landsats = heat_all_landsats.groupby('Coord').mean().reset_index()\n",
    "print ('check')\n",
    "    \n",
    "remove_extremes = True\n",
    "sd_cutoff = 4\n",
    "if remove_extremes:\n",
    "    heat_all_landsats = heat_all_landsats[np.abs(zscore(heat_all_landsats['ST_B10'])) <= sd_cutoff]\n",
    "\n",
    "print(heat_all_landsats.head())"
   ]
  },
  {
   "cell_type": "code",
   "execution_count": 5,
   "id": "946a2a47",
   "metadata": {},
   "outputs": [
    {
     "data": {
      "text/html": [
       "<div>\n",
       "<style scoped>\n",
       "    .dataframe tbody tr th:only-of-type {\n",
       "        vertical-align: middle;\n",
       "    }\n",
       "\n",
       "    .dataframe tbody tr th {\n",
       "        vertical-align: top;\n",
       "    }\n",
       "\n",
       "    .dataframe thead th {\n",
       "        text-align: right;\n",
       "    }\n",
       "</style>\n",
       "<table border=\"1\" class=\"dataframe\">\n",
       "  <thead>\n",
       "    <tr style=\"text-align: right;\">\n",
       "      <th></th>\n",
       "      <th>Coord</th>\n",
       "      <th>Year</th>\n",
       "      <th>ST_B10</th>\n",
       "      <th>Long</th>\n",
       "      <th>Lat</th>\n",
       "      <th>geometry</th>\n",
       "    </tr>\n",
       "  </thead>\n",
       "  <tbody>\n",
       "    <tr>\n",
       "      <th>0</th>\n",
       "      <td>(-74.25532529025433, 40.50436242448614)</td>\n",
       "      <td>2021.0</td>\n",
       "      <td>24.463801</td>\n",
       "      <td>-74.255325</td>\n",
       "      <td>40.504362</td>\n",
       "      <td>POINT (-74.25533 40.50436)</td>\n",
       "    </tr>\n",
       "    <tr>\n",
       "      <th>1</th>\n",
       "      <td>(-74.25532529025433, 40.50463191907137)</td>\n",
       "      <td>2021.0</td>\n",
       "      <td>24.579444</td>\n",
       "      <td>-74.255325</td>\n",
       "      <td>40.504632</td>\n",
       "      <td>POINT (-74.25533 40.50463)</td>\n",
       "    </tr>\n",
       "    <tr>\n",
       "      <th>2</th>\n",
       "      <td>(-74.25532529025433, 40.50490141365661)</td>\n",
       "      <td>2021.0</td>\n",
       "      <td>24.674578</td>\n",
       "      <td>-74.255325</td>\n",
       "      <td>40.504901</td>\n",
       "      <td>POINT (-74.25533 40.50490)</td>\n",
       "    </tr>\n",
       "    <tr>\n",
       "      <th>3</th>\n",
       "      <td>(-74.25532529025433, 40.505170908241844)</td>\n",
       "      <td>2021.0</td>\n",
       "      <td>24.768574</td>\n",
       "      <td>-74.255325</td>\n",
       "      <td>40.505171</td>\n",
       "      <td>POINT (-74.25533 40.50517)</td>\n",
       "    </tr>\n",
       "    <tr>\n",
       "      <th>4</th>\n",
       "      <td>(-74.25532529025433, 40.505440402827084)</td>\n",
       "      <td>2021.0</td>\n",
       "      <td>24.954286</td>\n",
       "      <td>-74.255325</td>\n",
       "      <td>40.505440</td>\n",
       "      <td>POINT (-74.25533 40.50544)</td>\n",
       "    </tr>\n",
       "  </tbody>\n",
       "</table>\n",
       "</div>"
      ],
      "text/plain": [
       "                                      Coord    Year     ST_B10       Long  \\\n",
       "0   (-74.25532529025433, 40.50436242448614)  2021.0  24.463801 -74.255325   \n",
       "1   (-74.25532529025433, 40.50463191907137)  2021.0  24.579444 -74.255325   \n",
       "2   (-74.25532529025433, 40.50490141365661)  2021.0  24.674578 -74.255325   \n",
       "3  (-74.25532529025433, 40.505170908241844)  2021.0  24.768574 -74.255325   \n",
       "4  (-74.25532529025433, 40.505440402827084)  2021.0  24.954286 -74.255325   \n",
       "\n",
       "         Lat                    geometry  \n",
       "0  40.504362  POINT (-74.25533 40.50436)  \n",
       "1  40.504632  POINT (-74.25533 40.50463)  \n",
       "2  40.504901  POINT (-74.25533 40.50490)  \n",
       "3  40.505171  POINT (-74.25533 40.50517)  \n",
       "4  40.505440  POINT (-74.25533 40.50544)  "
      ]
     },
     "execution_count": 5,
     "metadata": {},
     "output_type": "execute_result"
    }
   ],
   "source": [
    "#Convert to geodataframe\n",
    "geometry = gpd.points_from_xy(heat_all_landsats.Long, heat_all_landsats.Lat)\n",
    "crs = {'init': 'epsg:4326'} #http://www.spatialreference.org/ref/epsg/2263/\n",
    "heat_all_landsats_gp = gpd.GeoDataFrame(heat_all_landsats, crs=crs, geometry=geometry)\n",
    "heat_all_landsats_gp.head()"
   ]
  },
  {
   "cell_type": "code",
   "execution_count": 6,
   "id": "63cc2613",
   "metadata": {},
   "outputs": [
    {
     "data": {
      "text/plain": [
       "(569339, 6)"
      ]
     },
     "execution_count": 6,
     "metadata": {},
     "output_type": "execute_result"
    }
   ],
   "source": [
    "# Optional - Decrease the data of heat_all_landsats_gp\n",
    "sub_size = int(heat_all_landsats_gp.shape[0]/2)\n",
    "heat_all_landsats_sub = heat_all_landsats_gp.iloc[np.random.choice(np.arange(heat_all_landsats_gp.shape[0]), replace=False, size=sub_size),:]\n",
    "heat_all_landsats_sub.shape"
   ]
  },
  {
   "cell_type": "code",
   "execution_count": 7,
   "id": "0c56491b",
   "metadata": {},
   "outputs": [],
   "source": [
    "# Optional - increasing radius of heat datapoints (only for pavement edges)\n",
    "# heat_all_landsats_gp['geometry'] = heat_all_landsats_gp.geometry.buffer(0.1)"
   ]
  },
  {
   "cell_type": "code",
   "execution_count": 8,
   "id": "cdbf8de8",
   "metadata": {},
   "outputs": [],
   "source": [
    "# Optional (check type of file)\n",
    "# type(heat_all_landsats_gp)"
   ]
  },
  {
   "cell_type": "markdown",
   "id": "04e37a12",
   "metadata": {},
   "source": [
    "## Return temperature stats of planimetric feature of choice"
   ]
  },
  {
   "cell_type": "code",
   "execution_count": 9,
   "id": "e40616db",
   "metadata": {},
   "outputs": [
    {
     "name": "stdout",
     "output_type": "stream",
     "text": [
      "Select any item in 'files' listSwimming Pools.geojson\n",
      "NYC Average Temperature: 97.7 +/- 6.4 F\n",
      "Average Temperature of Swimming Pools.geojson: 96.08333244575027 +/- 4.107336230186534 F\n"
     ]
    }
   ],
   "source": [
    "files = [\"parking_lot_df_50.geojson\", \"Cooling Tower.geojson\", \"Public Plazas.geojson\", \"Hydrography Structures.geojson\", \n",
    "         \"Railroad Structure.geojson\", \"Parks Properties Of The City.geojson\", \"Transportation Structures.geojson\",\n",
    "         \"Swimming Pools.geojson\", \"Parking Lot.geojson\", \"Sidewalk.geojson\", \"Pavement_Edge.geojson\", \"Roadbed.geojson\",\n",
    "        \"Building Footprints.geojson\"]\n",
    "\n",
    "file_of_interest = (input(\"Select any item in 'files' list\"))\n",
    "\n",
    "utils.TempWithin(r\"data\\GEOJSONS\", file_of_interest, heat_all_landsats_gp)"
   ]
  },
  {
   "cell_type": "markdown",
   "id": "01c146db",
   "metadata": {},
   "source": [
    "# Visualizing Average Temperatures of all Planimetric Features"
   ]
  },
  {
   "cell_type": "code",
   "execution_count": 15,
   "id": "a172a4c7",
   "metadata": {},
   "outputs": [
    {
     "data": {
      "application/vnd.plotly.v1+json": {
       "config": {
        "plotlyServerURL": "https://plot.ly"
       },
       "data": [
        {
         "hovertemplate": "NYC Only=Average NYC Temperature<br>Planimetric Feature=%{x}<br>y=%{y}<extra></extra>",
         "legendgroup": "Average NYC Temperature",
         "line": {
          "color": "black",
          "dash": "solid"
         },
         "mode": "lines",
         "name": "Average NYC Temperature",
         "orientation": "v",
         "showlegend": true,
         "type": "scatter",
         "x": [
          "Parking Lots",
          "Top 50 Parking Lots by Area",
          "Parks ",
          "Buildings",
          "Transportation Structures",
          "Railroad Structures",
          "Roadbeds",
          "Cooling Towers",
          "Swimming Pools",
          "Hydrography Structures",
          "Public Plaza",
          "Sidewalks",
          "Pavement Edge"
         ],
         "xaxis": "x",
         "y": [
          97.7,
          97.7,
          97.7,
          97.7,
          97.7,
          97.7,
          97.7,
          97.7,
          97.7,
          97.7,
          97.7,
          97.7,
          97.7
         ],
         "yaxis": "y"
        },
        {
         "alignmentgroup": "True",
         "error_y": {
          "array": [
           5.1,
           5.7,
           4,
           3.5
          ]
         },
         "hovertemplate": "Temperature Category=Above Average NYC Temperature<br>Planimetric Feature=%{x}<br>Temperature=%{y}<extra></extra>",
         "legendgroup": "Above Average NYC Temperature",
         "marker": {
          "color": "red"
         },
         "name": "Above Average NYC Temperature",
         "offsetgroup": "Above Average NYC Temperature",
         "orientation": "v",
         "showlegend": true,
         "textposition": "auto",
         "type": "bar",
         "x": [
          "Parking Lots",
          "Top 50 Parking Lots by Area",
          "Buildings",
          "Railroad Structures"
         ],
         "xaxis": "x",
         "y": [
          98.7,
          99.9,
          97.9,
          98.3
         ],
         "yaxis": "y"
        },
        {
         "alignmentgroup": "True",
         "error_y": {
          "array": [
           6.2,
           5.1,
           4.1,
           4.1,
           4.1,
           9.4,
           4.7,
           4.4,
           6.01
          ]
         },
         "hovertemplate": "Temperature Category=Below Average NYC Temperature<br>Planimetric Feature=%{x}<br>Temperature=%{y}<extra></extra>",
         "legendgroup": "Below Average NYC Temperature",
         "marker": {
          "color": "blue"
         },
         "name": "Below Average NYC Temperature",
         "offsetgroup": "Below Average NYC Temperature",
         "orientation": "v",
         "showlegend": true,
         "textposition": "auto",
         "type": "bar",
         "x": [
          "Parks ",
          "Transportation Structures",
          "Roadbeds",
          "Cooling Towers",
          "Swimming Pools",
          "Hydrography Structures",
          "Public Plaza",
          "Sidewalks",
          "Pavement Edge"
         ],
         "xaxis": "x",
         "y": [
          86.7,
          96.4,
          97.1,
          96,
          96.1,
          86.4,
          96,
          96.9,
          95.3
         ],
         "yaxis": "y"
        }
       ],
       "layout": {
        "shapes": [
         {
          "line": {
           "color": "black",
           "width": 3
          },
          "type": "line",
          "x0": 0,
          "x1": 1,
          "xref": "x domain",
          "y0": 97.7,
          "y1": 97.7,
          "yref": "y"
         }
        ],
        "showlegend": true,
        "template": {
         "data": {
          "bar": [
           {
            "error_x": {
             "color": "#2a3f5f"
            },
            "error_y": {
             "color": "#2a3f5f"
            },
            "marker": {
             "line": {
              "color": "#E5ECF6",
              "width": 0.5
             }
            },
            "type": "bar"
           }
          ],
          "barpolar": [
           {
            "marker": {
             "line": {
              "color": "#E5ECF6",
              "width": 0.5
             }
            },
            "type": "barpolar"
           }
          ],
          "carpet": [
           {
            "aaxis": {
             "endlinecolor": "#2a3f5f",
             "gridcolor": "white",
             "linecolor": "white",
             "minorgridcolor": "white",
             "startlinecolor": "#2a3f5f"
            },
            "baxis": {
             "endlinecolor": "#2a3f5f",
             "gridcolor": "white",
             "linecolor": "white",
             "minorgridcolor": "white",
             "startlinecolor": "#2a3f5f"
            },
            "type": "carpet"
           }
          ],
          "choropleth": [
           {
            "colorbar": {
             "outlinewidth": 0,
             "ticks": ""
            },
            "type": "choropleth"
           }
          ],
          "contour": [
           {
            "colorbar": {
             "outlinewidth": 0,
             "ticks": ""
            },
            "colorscale": [
             [
              0,
              "#0d0887"
             ],
             [
              0.1111111111111111,
              "#46039f"
             ],
             [
              0.2222222222222222,
              "#7201a8"
             ],
             [
              0.3333333333333333,
              "#9c179e"
             ],
             [
              0.4444444444444444,
              "#bd3786"
             ],
             [
              0.5555555555555556,
              "#d8576b"
             ],
             [
              0.6666666666666666,
              "#ed7953"
             ],
             [
              0.7777777777777778,
              "#fb9f3a"
             ],
             [
              0.8888888888888888,
              "#fdca26"
             ],
             [
              1,
              "#f0f921"
             ]
            ],
            "type": "contour"
           }
          ],
          "contourcarpet": [
           {
            "colorbar": {
             "outlinewidth": 0,
             "ticks": ""
            },
            "type": "contourcarpet"
           }
          ],
          "heatmap": [
           {
            "colorbar": {
             "outlinewidth": 0,
             "ticks": ""
            },
            "colorscale": [
             [
              0,
              "#0d0887"
             ],
             [
              0.1111111111111111,
              "#46039f"
             ],
             [
              0.2222222222222222,
              "#7201a8"
             ],
             [
              0.3333333333333333,
              "#9c179e"
             ],
             [
              0.4444444444444444,
              "#bd3786"
             ],
             [
              0.5555555555555556,
              "#d8576b"
             ],
             [
              0.6666666666666666,
              "#ed7953"
             ],
             [
              0.7777777777777778,
              "#fb9f3a"
             ],
             [
              0.8888888888888888,
              "#fdca26"
             ],
             [
              1,
              "#f0f921"
             ]
            ],
            "type": "heatmap"
           }
          ],
          "heatmapgl": [
           {
            "colorbar": {
             "outlinewidth": 0,
             "ticks": ""
            },
            "colorscale": [
             [
              0,
              "#0d0887"
             ],
             [
              0.1111111111111111,
              "#46039f"
             ],
             [
              0.2222222222222222,
              "#7201a8"
             ],
             [
              0.3333333333333333,
              "#9c179e"
             ],
             [
              0.4444444444444444,
              "#bd3786"
             ],
             [
              0.5555555555555556,
              "#d8576b"
             ],
             [
              0.6666666666666666,
              "#ed7953"
             ],
             [
              0.7777777777777778,
              "#fb9f3a"
             ],
             [
              0.8888888888888888,
              "#fdca26"
             ],
             [
              1,
              "#f0f921"
             ]
            ],
            "type": "heatmapgl"
           }
          ],
          "histogram": [
           {
            "marker": {
             "colorbar": {
              "outlinewidth": 0,
              "ticks": ""
             }
            },
            "type": "histogram"
           }
          ],
          "histogram2d": [
           {
            "colorbar": {
             "outlinewidth": 0,
             "ticks": ""
            },
            "colorscale": [
             [
              0,
              "#0d0887"
             ],
             [
              0.1111111111111111,
              "#46039f"
             ],
             [
              0.2222222222222222,
              "#7201a8"
             ],
             [
              0.3333333333333333,
              "#9c179e"
             ],
             [
              0.4444444444444444,
              "#bd3786"
             ],
             [
              0.5555555555555556,
              "#d8576b"
             ],
             [
              0.6666666666666666,
              "#ed7953"
             ],
             [
              0.7777777777777778,
              "#fb9f3a"
             ],
             [
              0.8888888888888888,
              "#fdca26"
             ],
             [
              1,
              "#f0f921"
             ]
            ],
            "type": "histogram2d"
           }
          ],
          "histogram2dcontour": [
           {
            "colorbar": {
             "outlinewidth": 0,
             "ticks": ""
            },
            "colorscale": [
             [
              0,
              "#0d0887"
             ],
             [
              0.1111111111111111,
              "#46039f"
             ],
             [
              0.2222222222222222,
              "#7201a8"
             ],
             [
              0.3333333333333333,
              "#9c179e"
             ],
             [
              0.4444444444444444,
              "#bd3786"
             ],
             [
              0.5555555555555556,
              "#d8576b"
             ],
             [
              0.6666666666666666,
              "#ed7953"
             ],
             [
              0.7777777777777778,
              "#fb9f3a"
             ],
             [
              0.8888888888888888,
              "#fdca26"
             ],
             [
              1,
              "#f0f921"
             ]
            ],
            "type": "histogram2dcontour"
           }
          ],
          "mesh3d": [
           {
            "colorbar": {
             "outlinewidth": 0,
             "ticks": ""
            },
            "type": "mesh3d"
           }
          ],
          "parcoords": [
           {
            "line": {
             "colorbar": {
              "outlinewidth": 0,
              "ticks": ""
             }
            },
            "type": "parcoords"
           }
          ],
          "pie": [
           {
            "automargin": true,
            "type": "pie"
           }
          ],
          "scatter": [
           {
            "marker": {
             "colorbar": {
              "outlinewidth": 0,
              "ticks": ""
             }
            },
            "type": "scatter"
           }
          ],
          "scatter3d": [
           {
            "line": {
             "colorbar": {
              "outlinewidth": 0,
              "ticks": ""
             }
            },
            "marker": {
             "colorbar": {
              "outlinewidth": 0,
              "ticks": ""
             }
            },
            "type": "scatter3d"
           }
          ],
          "scattercarpet": [
           {
            "marker": {
             "colorbar": {
              "outlinewidth": 0,
              "ticks": ""
             }
            },
            "type": "scattercarpet"
           }
          ],
          "scattergeo": [
           {
            "marker": {
             "colorbar": {
              "outlinewidth": 0,
              "ticks": ""
             }
            },
            "type": "scattergeo"
           }
          ],
          "scattergl": [
           {
            "marker": {
             "colorbar": {
              "outlinewidth": 0,
              "ticks": ""
             }
            },
            "type": "scattergl"
           }
          ],
          "scattermapbox": [
           {
            "marker": {
             "colorbar": {
              "outlinewidth": 0,
              "ticks": ""
             }
            },
            "type": "scattermapbox"
           }
          ],
          "scatterpolar": [
           {
            "marker": {
             "colorbar": {
              "outlinewidth": 0,
              "ticks": ""
             }
            },
            "type": "scatterpolar"
           }
          ],
          "scatterpolargl": [
           {
            "marker": {
             "colorbar": {
              "outlinewidth": 0,
              "ticks": ""
             }
            },
            "type": "scatterpolargl"
           }
          ],
          "scatterternary": [
           {
            "marker": {
             "colorbar": {
              "outlinewidth": 0,
              "ticks": ""
             }
            },
            "type": "scatterternary"
           }
          ],
          "surface": [
           {
            "colorbar": {
             "outlinewidth": 0,
             "ticks": ""
            },
            "colorscale": [
             [
              0,
              "#0d0887"
             ],
             [
              0.1111111111111111,
              "#46039f"
             ],
             [
              0.2222222222222222,
              "#7201a8"
             ],
             [
              0.3333333333333333,
              "#9c179e"
             ],
             [
              0.4444444444444444,
              "#bd3786"
             ],
             [
              0.5555555555555556,
              "#d8576b"
             ],
             [
              0.6666666666666666,
              "#ed7953"
             ],
             [
              0.7777777777777778,
              "#fb9f3a"
             ],
             [
              0.8888888888888888,
              "#fdca26"
             ],
             [
              1,
              "#f0f921"
             ]
            ],
            "type": "surface"
           }
          ],
          "table": [
           {
            "cells": {
             "fill": {
              "color": "#EBF0F8"
             },
             "line": {
              "color": "white"
             }
            },
            "header": {
             "fill": {
              "color": "#C8D4E3"
             },
             "line": {
              "color": "white"
             }
            },
            "type": "table"
           }
          ]
         },
         "layout": {
          "annotationdefaults": {
           "arrowcolor": "#2a3f5f",
           "arrowhead": 0,
           "arrowwidth": 1
          },
          "autotypenumbers": "strict",
          "coloraxis": {
           "colorbar": {
            "outlinewidth": 0,
            "ticks": ""
           }
          },
          "colorscale": {
           "diverging": [
            [
             0,
             "#8e0152"
            ],
            [
             0.1,
             "#c51b7d"
            ],
            [
             0.2,
             "#de77ae"
            ],
            [
             0.3,
             "#f1b6da"
            ],
            [
             0.4,
             "#fde0ef"
            ],
            [
             0.5,
             "#f7f7f7"
            ],
            [
             0.6,
             "#e6f5d0"
            ],
            [
             0.7,
             "#b8e186"
            ],
            [
             0.8,
             "#7fbc41"
            ],
            [
             0.9,
             "#4d9221"
            ],
            [
             1,
             "#276419"
            ]
           ],
           "sequential": [
            [
             0,
             "#0d0887"
            ],
            [
             0.1111111111111111,
             "#46039f"
            ],
            [
             0.2222222222222222,
             "#7201a8"
            ],
            [
             0.3333333333333333,
             "#9c179e"
            ],
            [
             0.4444444444444444,
             "#bd3786"
            ],
            [
             0.5555555555555556,
             "#d8576b"
            ],
            [
             0.6666666666666666,
             "#ed7953"
            ],
            [
             0.7777777777777778,
             "#fb9f3a"
            ],
            [
             0.8888888888888888,
             "#fdca26"
            ],
            [
             1,
             "#f0f921"
            ]
           ],
           "sequentialminus": [
            [
             0,
             "#0d0887"
            ],
            [
             0.1111111111111111,
             "#46039f"
            ],
            [
             0.2222222222222222,
             "#7201a8"
            ],
            [
             0.3333333333333333,
             "#9c179e"
            ],
            [
             0.4444444444444444,
             "#bd3786"
            ],
            [
             0.5555555555555556,
             "#d8576b"
            ],
            [
             0.6666666666666666,
             "#ed7953"
            ],
            [
             0.7777777777777778,
             "#fb9f3a"
            ],
            [
             0.8888888888888888,
             "#fdca26"
            ],
            [
             1,
             "#f0f921"
            ]
           ]
          },
          "colorway": [
           "#636efa",
           "#EF553B",
           "#00cc96",
           "#ab63fa",
           "#FFA15A",
           "#19d3f3",
           "#FF6692",
           "#B6E880",
           "#FF97FF",
           "#FECB52"
          ],
          "font": {
           "color": "#2a3f5f"
          },
          "geo": {
           "bgcolor": "white",
           "lakecolor": "white",
           "landcolor": "#E5ECF6",
           "showlakes": true,
           "showland": true,
           "subunitcolor": "white"
          },
          "hoverlabel": {
           "align": "left"
          },
          "hovermode": "closest",
          "mapbox": {
           "style": "light"
          },
          "paper_bgcolor": "white",
          "plot_bgcolor": "#E5ECF6",
          "polar": {
           "angularaxis": {
            "gridcolor": "white",
            "linecolor": "white",
            "ticks": ""
           },
           "bgcolor": "#E5ECF6",
           "radialaxis": {
            "gridcolor": "white",
            "linecolor": "white",
            "ticks": ""
           }
          },
          "scene": {
           "xaxis": {
            "backgroundcolor": "#E5ECF6",
            "gridcolor": "white",
            "gridwidth": 2,
            "linecolor": "white",
            "showbackground": true,
            "ticks": "",
            "zerolinecolor": "white"
           },
           "yaxis": {
            "backgroundcolor": "#E5ECF6",
            "gridcolor": "white",
            "gridwidth": 2,
            "linecolor": "white",
            "showbackground": true,
            "ticks": "",
            "zerolinecolor": "white"
           },
           "zaxis": {
            "backgroundcolor": "#E5ECF6",
            "gridcolor": "white",
            "gridwidth": 2,
            "linecolor": "white",
            "showbackground": true,
            "ticks": "",
            "zerolinecolor": "white"
           }
          },
          "shapedefaults": {
           "line": {
            "color": "#2a3f5f"
           }
          },
          "ternary": {
           "aaxis": {
            "gridcolor": "white",
            "linecolor": "white",
            "ticks": ""
           },
           "baxis": {
            "gridcolor": "white",
            "linecolor": "white",
            "ticks": ""
           },
           "bgcolor": "#E5ECF6",
           "caxis": {
            "gridcolor": "white",
            "linecolor": "white",
            "ticks": ""
           }
          },
          "title": {
           "x": 0.05
          },
          "xaxis": {
           "automargin": true,
           "gridcolor": "white",
           "linecolor": "white",
           "ticks": "",
           "title": {
            "standoff": 15
           },
           "zerolinecolor": "white",
           "zerolinewidth": 2
          },
          "yaxis": {
           "automargin": true,
           "gridcolor": "white",
           "linecolor": "white",
           "ticks": "",
           "title": {
            "standoff": 15
           },
           "zerolinecolor": "white",
           "zerolinewidth": 2
          }
         }
        },
        "xaxis": {
         "title": {
          "text": "Planimetric Feature"
         }
        },
        "yaxis": {
         "range": [
          75,
          107
         ],
         "title": {
          "text": "Temperatures (Fahrenheit)"
         }
        }
       }
      },
      "text/html": [
       "<div>                            <div id=\"fe110290-0acc-49b4-b89b-1a31ddc451ce\" class=\"plotly-graph-div\" style=\"height:525px; width:100%;\"></div>            <script type=\"text/javascript\">                require([\"plotly\"], function(Plotly) {                    window.PLOTLYENV=window.PLOTLYENV || {};                                    if (document.getElementById(\"fe110290-0acc-49b4-b89b-1a31ddc451ce\")) {                    Plotly.newPlot(                        \"fe110290-0acc-49b4-b89b-1a31ddc451ce\",                        [{\"hovertemplate\": \"NYC Only=Average NYC Temperature<br>Planimetric Feature=%{x}<br>y=%{y}<extra></extra>\", \"legendgroup\": \"Average NYC Temperature\", \"line\": {\"color\": \"black\", \"dash\": \"solid\"}, \"mode\": \"lines\", \"name\": \"Average NYC Temperature\", \"orientation\": \"v\", \"showlegend\": true, \"type\": \"scatter\", \"x\": [\"Parking Lots\", \"Top 50 Parking Lots by Area\", \"Parks \", \"Buildings\", \"Transportation Structures\", \"Railroad Structures\", \"Roadbeds\", \"Cooling Towers\", \"Swimming Pools\", \"Hydrography Structures\", \"Public Plaza\", \"Sidewalks\", \"Pavement Edge\"], \"xaxis\": \"x\", \"y\": [97.7, 97.7, 97.7, 97.7, 97.7, 97.7, 97.7, 97.7, 97.7, 97.7, 97.7, 97.7, 97.7], \"yaxis\": \"y\"}, {\"alignmentgroup\": \"True\", \"error_y\": {\"array\": [5.1, 5.7, 4.0, 3.5]}, \"hovertemplate\": \"Temperature Category=Above Average NYC Temperature<br>Planimetric Feature=%{x}<br>Temperature=%{y}<extra></extra>\", \"legendgroup\": \"Above Average NYC Temperature\", \"marker\": {\"color\": \"red\"}, \"name\": \"Above Average NYC Temperature\", \"offsetgroup\": \"Above Average NYC Temperature\", \"orientation\": \"v\", \"showlegend\": true, \"textposition\": \"auto\", \"type\": \"bar\", \"x\": [\"Parking Lots\", \"Top 50 Parking Lots by Area\", \"Buildings\", \"Railroad Structures\"], \"xaxis\": \"x\", \"y\": [98.7, 99.9, 97.9, 98.3], \"yaxis\": \"y\"}, {\"alignmentgroup\": \"True\", \"error_y\": {\"array\": [6.2, 5.1, 4.1, 4.1, 4.1, 9.4, 4.7, 4.4, 6.01]}, \"hovertemplate\": \"Temperature Category=Below Average NYC Temperature<br>Planimetric Feature=%{x}<br>Temperature=%{y}<extra></extra>\", \"legendgroup\": \"Below Average NYC Temperature\", \"marker\": {\"color\": \"blue\"}, \"name\": \"Below Average NYC Temperature\", \"offsetgroup\": \"Below Average NYC Temperature\", \"orientation\": \"v\", \"showlegend\": true, \"textposition\": \"auto\", \"type\": \"bar\", \"x\": [\"Parks \", \"Transportation Structures\", \"Roadbeds\", \"Cooling Towers\", \"Swimming Pools\", \"Hydrography Structures\", \"Public Plaza\", \"Sidewalks\", \"Pavement Edge\"], \"xaxis\": \"x\", \"y\": [86.7, 96.4, 97.1, 96.0, 96.1, 86.4, 96.0, 96.9, 95.3], \"yaxis\": \"y\"}],                        {\"shapes\": [{\"line\": {\"color\": \"black\", \"width\": 3}, \"type\": \"line\", \"x0\": 0, \"x1\": 1, \"xref\": \"x domain\", \"y0\": 97.7, \"y1\": 97.7, \"yref\": \"y\"}], \"showlegend\": true, \"template\": {\"data\": {\"bar\": [{\"error_x\": {\"color\": \"#2a3f5f\"}, \"error_y\": {\"color\": \"#2a3f5f\"}, \"marker\": {\"line\": {\"color\": \"#E5ECF6\", \"width\": 0.5}}, \"type\": \"bar\"}], \"barpolar\": [{\"marker\": {\"line\": {\"color\": \"#E5ECF6\", \"width\": 0.5}}, \"type\": \"barpolar\"}], \"carpet\": [{\"aaxis\": {\"endlinecolor\": \"#2a3f5f\", \"gridcolor\": \"white\", \"linecolor\": \"white\", \"minorgridcolor\": \"white\", \"startlinecolor\": \"#2a3f5f\"}, \"baxis\": {\"endlinecolor\": \"#2a3f5f\", \"gridcolor\": \"white\", \"linecolor\": \"white\", \"minorgridcolor\": \"white\", \"startlinecolor\": \"#2a3f5f\"}, \"type\": \"carpet\"}], \"choropleth\": [{\"colorbar\": {\"outlinewidth\": 0, \"ticks\": \"\"}, \"type\": \"choropleth\"}], \"contour\": [{\"colorbar\": {\"outlinewidth\": 0, \"ticks\": \"\"}, \"colorscale\": [[0.0, \"#0d0887\"], [0.1111111111111111, \"#46039f\"], [0.2222222222222222, \"#7201a8\"], [0.3333333333333333, \"#9c179e\"], [0.4444444444444444, \"#bd3786\"], [0.5555555555555556, \"#d8576b\"], [0.6666666666666666, \"#ed7953\"], [0.7777777777777778, \"#fb9f3a\"], [0.8888888888888888, \"#fdca26\"], [1.0, \"#f0f921\"]], \"type\": \"contour\"}], \"contourcarpet\": [{\"colorbar\": {\"outlinewidth\": 0, \"ticks\": \"\"}, \"type\": \"contourcarpet\"}], \"heatmap\": [{\"colorbar\": {\"outlinewidth\": 0, \"ticks\": \"\"}, \"colorscale\": [[0.0, \"#0d0887\"], [0.1111111111111111, \"#46039f\"], [0.2222222222222222, \"#7201a8\"], [0.3333333333333333, \"#9c179e\"], [0.4444444444444444, \"#bd3786\"], [0.5555555555555556, \"#d8576b\"], [0.6666666666666666, \"#ed7953\"], [0.7777777777777778, \"#fb9f3a\"], [0.8888888888888888, \"#fdca26\"], [1.0, \"#f0f921\"]], \"type\": \"heatmap\"}], \"heatmapgl\": [{\"colorbar\": {\"outlinewidth\": 0, \"ticks\": \"\"}, \"colorscale\": [[0.0, \"#0d0887\"], [0.1111111111111111, \"#46039f\"], [0.2222222222222222, \"#7201a8\"], [0.3333333333333333, \"#9c179e\"], [0.4444444444444444, \"#bd3786\"], [0.5555555555555556, \"#d8576b\"], [0.6666666666666666, \"#ed7953\"], [0.7777777777777778, \"#fb9f3a\"], [0.8888888888888888, \"#fdca26\"], [1.0, \"#f0f921\"]], \"type\": \"heatmapgl\"}], \"histogram\": [{\"marker\": {\"colorbar\": {\"outlinewidth\": 0, \"ticks\": \"\"}}, \"type\": \"histogram\"}], \"histogram2d\": [{\"colorbar\": {\"outlinewidth\": 0, \"ticks\": \"\"}, \"colorscale\": [[0.0, \"#0d0887\"], [0.1111111111111111, \"#46039f\"], [0.2222222222222222, \"#7201a8\"], [0.3333333333333333, \"#9c179e\"], [0.4444444444444444, \"#bd3786\"], [0.5555555555555556, \"#d8576b\"], [0.6666666666666666, \"#ed7953\"], [0.7777777777777778, \"#fb9f3a\"], [0.8888888888888888, \"#fdca26\"], [1.0, \"#f0f921\"]], \"type\": \"histogram2d\"}], \"histogram2dcontour\": [{\"colorbar\": {\"outlinewidth\": 0, \"ticks\": \"\"}, \"colorscale\": [[0.0, \"#0d0887\"], [0.1111111111111111, \"#46039f\"], [0.2222222222222222, \"#7201a8\"], [0.3333333333333333, \"#9c179e\"], [0.4444444444444444, \"#bd3786\"], [0.5555555555555556, \"#d8576b\"], [0.6666666666666666, \"#ed7953\"], [0.7777777777777778, \"#fb9f3a\"], [0.8888888888888888, \"#fdca26\"], [1.0, \"#f0f921\"]], \"type\": \"histogram2dcontour\"}], \"mesh3d\": [{\"colorbar\": {\"outlinewidth\": 0, \"ticks\": \"\"}, \"type\": \"mesh3d\"}], \"parcoords\": [{\"line\": {\"colorbar\": {\"outlinewidth\": 0, \"ticks\": \"\"}}, \"type\": \"parcoords\"}], \"pie\": [{\"automargin\": true, \"type\": \"pie\"}], \"scatter\": [{\"marker\": {\"colorbar\": {\"outlinewidth\": 0, \"ticks\": \"\"}}, \"type\": \"scatter\"}], \"scatter3d\": [{\"line\": {\"colorbar\": {\"outlinewidth\": 0, \"ticks\": \"\"}}, \"marker\": {\"colorbar\": {\"outlinewidth\": 0, \"ticks\": \"\"}}, \"type\": \"scatter3d\"}], \"scattercarpet\": [{\"marker\": {\"colorbar\": {\"outlinewidth\": 0, \"ticks\": \"\"}}, \"type\": \"scattercarpet\"}], \"scattergeo\": [{\"marker\": {\"colorbar\": {\"outlinewidth\": 0, \"ticks\": \"\"}}, \"type\": \"scattergeo\"}], \"scattergl\": [{\"marker\": {\"colorbar\": {\"outlinewidth\": 0, \"ticks\": \"\"}}, \"type\": \"scattergl\"}], \"scattermapbox\": [{\"marker\": {\"colorbar\": {\"outlinewidth\": 0, \"ticks\": \"\"}}, \"type\": \"scattermapbox\"}], \"scatterpolar\": [{\"marker\": {\"colorbar\": {\"outlinewidth\": 0, \"ticks\": \"\"}}, \"type\": \"scatterpolar\"}], \"scatterpolargl\": [{\"marker\": {\"colorbar\": {\"outlinewidth\": 0, \"ticks\": \"\"}}, \"type\": \"scatterpolargl\"}], \"scatterternary\": [{\"marker\": {\"colorbar\": {\"outlinewidth\": 0, \"ticks\": \"\"}}, \"type\": \"scatterternary\"}], \"surface\": [{\"colorbar\": {\"outlinewidth\": 0, \"ticks\": \"\"}, \"colorscale\": [[0.0, \"#0d0887\"], [0.1111111111111111, \"#46039f\"], [0.2222222222222222, \"#7201a8\"], [0.3333333333333333, \"#9c179e\"], [0.4444444444444444, \"#bd3786\"], [0.5555555555555556, \"#d8576b\"], [0.6666666666666666, \"#ed7953\"], [0.7777777777777778, \"#fb9f3a\"], [0.8888888888888888, \"#fdca26\"], [1.0, \"#f0f921\"]], \"type\": \"surface\"}], \"table\": [{\"cells\": {\"fill\": {\"color\": \"#EBF0F8\"}, \"line\": {\"color\": \"white\"}}, \"header\": {\"fill\": {\"color\": \"#C8D4E3\"}, \"line\": {\"color\": \"white\"}}, \"type\": \"table\"}]}, \"layout\": {\"annotationdefaults\": {\"arrowcolor\": \"#2a3f5f\", \"arrowhead\": 0, \"arrowwidth\": 1}, \"autotypenumbers\": \"strict\", \"coloraxis\": {\"colorbar\": {\"outlinewidth\": 0, \"ticks\": \"\"}}, \"colorscale\": {\"diverging\": [[0, \"#8e0152\"], [0.1, \"#c51b7d\"], [0.2, \"#de77ae\"], [0.3, \"#f1b6da\"], [0.4, \"#fde0ef\"], [0.5, \"#f7f7f7\"], [0.6, \"#e6f5d0\"], [0.7, \"#b8e186\"], [0.8, \"#7fbc41\"], [0.9, \"#4d9221\"], [1, \"#276419\"]], \"sequential\": [[0.0, \"#0d0887\"], [0.1111111111111111, \"#46039f\"], [0.2222222222222222, \"#7201a8\"], [0.3333333333333333, \"#9c179e\"], [0.4444444444444444, \"#bd3786\"], [0.5555555555555556, \"#d8576b\"], [0.6666666666666666, \"#ed7953\"], [0.7777777777777778, \"#fb9f3a\"], [0.8888888888888888, \"#fdca26\"], [1.0, \"#f0f921\"]], \"sequentialminus\": [[0.0, \"#0d0887\"], [0.1111111111111111, \"#46039f\"], [0.2222222222222222, \"#7201a8\"], [0.3333333333333333, \"#9c179e\"], [0.4444444444444444, \"#bd3786\"], [0.5555555555555556, \"#d8576b\"], [0.6666666666666666, \"#ed7953\"], [0.7777777777777778, \"#fb9f3a\"], [0.8888888888888888, \"#fdca26\"], [1.0, \"#f0f921\"]]}, \"colorway\": [\"#636efa\", \"#EF553B\", \"#00cc96\", \"#ab63fa\", \"#FFA15A\", \"#19d3f3\", \"#FF6692\", \"#B6E880\", \"#FF97FF\", \"#FECB52\"], \"font\": {\"color\": \"#2a3f5f\"}, \"geo\": {\"bgcolor\": \"white\", \"lakecolor\": \"white\", \"landcolor\": \"#E5ECF6\", \"showlakes\": true, \"showland\": true, \"subunitcolor\": \"white\"}, \"hoverlabel\": {\"align\": \"left\"}, \"hovermode\": \"closest\", \"mapbox\": {\"style\": \"light\"}, \"paper_bgcolor\": \"white\", \"plot_bgcolor\": \"#E5ECF6\", \"polar\": {\"angularaxis\": {\"gridcolor\": \"white\", \"linecolor\": \"white\", \"ticks\": \"\"}, \"bgcolor\": \"#E5ECF6\", \"radialaxis\": {\"gridcolor\": \"white\", \"linecolor\": \"white\", \"ticks\": \"\"}}, \"scene\": {\"xaxis\": {\"backgroundcolor\": \"#E5ECF6\", \"gridcolor\": \"white\", \"gridwidth\": 2, \"linecolor\": \"white\", \"showbackground\": true, \"ticks\": \"\", \"zerolinecolor\": \"white\"}, \"yaxis\": {\"backgroundcolor\": \"#E5ECF6\", \"gridcolor\": \"white\", \"gridwidth\": 2, \"linecolor\": \"white\", \"showbackground\": true, \"ticks\": \"\", \"zerolinecolor\": \"white\"}, \"zaxis\": {\"backgroundcolor\": \"#E5ECF6\", \"gridcolor\": \"white\", \"gridwidth\": 2, \"linecolor\": \"white\", \"showbackground\": true, \"ticks\": \"\", \"zerolinecolor\": \"white\"}}, \"shapedefaults\": {\"line\": {\"color\": \"#2a3f5f\"}}, \"ternary\": {\"aaxis\": {\"gridcolor\": \"white\", \"linecolor\": \"white\", \"ticks\": \"\"}, \"baxis\": {\"gridcolor\": \"white\", \"linecolor\": \"white\", \"ticks\": \"\"}, \"bgcolor\": \"#E5ECF6\", \"caxis\": {\"gridcolor\": \"white\", \"linecolor\": \"white\", \"ticks\": \"\"}}, \"title\": {\"x\": 0.05}, \"xaxis\": {\"automargin\": true, \"gridcolor\": \"white\", \"linecolor\": \"white\", \"ticks\": \"\", \"title\": {\"standoff\": 15}, \"zerolinecolor\": \"white\", \"zerolinewidth\": 2}, \"yaxis\": {\"automargin\": true, \"gridcolor\": \"white\", \"linecolor\": \"white\", \"ticks\": \"\", \"title\": {\"standoff\": 15}, \"zerolinecolor\": \"white\", \"zerolinewidth\": 2}}}, \"xaxis\": {\"title\": {\"text\": \"Planimetric Feature\"}}, \"yaxis\": {\"range\": [75, 107], \"title\": {\"text\": \"Temperatures (Fahrenheit)\"}}},                        {\"responsive\": true}                    ).then(function(){\n",
       "                            \n",
       "var gd = document.getElementById('fe110290-0acc-49b4-b89b-1a31ddc451ce');\n",
       "var x = new MutationObserver(function (mutations, observer) {{\n",
       "        var display = window.getComputedStyle(gd).display;\n",
       "        if (!display || display === 'none') {{\n",
       "            console.log([gd, 'removed!']);\n",
       "            Plotly.purge(gd);\n",
       "            observer.disconnect();\n",
       "        }}\n",
       "}});\n",
       "\n",
       "// Listen for the removal of the full notebook cells\n",
       "var notebookContainer = gd.closest('#notebook-container');\n",
       "if (notebookContainer) {{\n",
       "    x.observe(notebookContainer, {childList: true});\n",
       "}}\n",
       "\n",
       "// Listen for the clearing of the current output cell\n",
       "var outputEl = gd.closest('.output');\n",
       "if (outputEl) {{\n",
       "    x.observe(outputEl, {childList: true});\n",
       "}}\n",
       "\n",
       "                        })                };                });            </script>        </div>"
      ]
     },
     "metadata": {},
     "output_type": "display_data"
    }
   ],
   "source": [
    "import plotly.express as pe\n",
    "plani_df = pd.read_csv(r\"data\\Data From Planimetrics Project.csv\")\n",
    "plani_df_new = plani_df.drop(plani_df.index[plani_df[\"Planimetric Feature\"] == \"NYC\"])\n",
    "\n",
    "\n",
    "nyccolorplot = []\n",
    "for i in plani_df_new[\"Temperature\"]:\n",
    "    nyccolorplot.append(\"Average NYC Temperature\")\n",
    "\n",
    "plani_df_new[\"NYC Only\"] = nyccolorplot\n",
    "fig_plani_2 = pe.line(plani_df_new, x= \"Planimetric Feature\", y=[plani_df[\"Temperature\"].values[0]]*13, color = \"NYC Only\", color_discrete_map={\n",
    "                \"Average NYC Temperature\": \"black\"}, )\n",
    "\n",
    "\n",
    "tempcolorplot = []\n",
    "for i in plani_df_new[\"Temperature\"]:\n",
    "    if i < plani_df[plani_df[\"Planimetric Feature\"] == \"NYC\"][\"Temperature\"].values[0]:\n",
    "        tempcolorplot.append(\"Below Average NYC Temperature\")\n",
    "    else:\n",
    "         tempcolorplot.append(\"Above Average NYC Temperature\")\n",
    "\n",
    "plani_df_new[\"Temperature Category\"] = tempcolorplot\n",
    "\n",
    "\n",
    "\n",
    "fig_plani_1 = pe.bar(plani_df_new, x=\"Planimetric Feature\", y=\"Temperature\", title=\"Average Temperatures of NYC Planimetric Features\", color = \"Temperature Category\", color_discrete_map={\n",
    "                \"Above Average NYC Temperature\": \"red\",\n",
    "                \"Below Average NYC Temperature\": \"blue\"}, error_y=\"Standard Deviation \")\n",
    "\n",
    "fig_plani = (go.Figure(data= fig_plani_2.data + fig_plani_1.data))\n",
    "fig_plani.update_layout(yaxis_range=[75,107], showlegend = True)\n",
    "fig_plani.update_yaxes(title = \"Temperatures (Fahrenheit)\")\n",
    "fig_plani.update_xaxes(title = \"Planimetric Feature\")\n",
    "\n",
    "fig_plani.add_hline(y=plani_df[plani_df[\"Planimetric Feature\"] == \"NYC\"][\"Temperature\"].values[0], line_color=\"black\", line_width=3)\n",
    "\n",
    "# fig_plani.update_layout(legend=dict(\n",
    "#     yanchor=\"top\",\n",
    "#     y=1.5,\n",
    "#     xanchor=\"right\",\n",
    "#     x=1\n",
    "# ))\n",
    "\n",
    "fig_plani.show()"
   ]
  },
  {
   "cell_type": "markdown",
   "id": "51b27318",
   "metadata": {},
   "source": [
    "## Visualizing planimetric features on top of the NYC Heat map"
   ]
  },
  {
   "cell_type": "code",
   "execution_count": 16,
   "id": "1f879c26",
   "metadata": {},
   "outputs": [],
   "source": [
    "#Planimetric Feature Data Load\n",
    "cd_boundaries_filepath = r\"data\\GEOJSONS\\parking_lot_df_50.geojson\"\n",
    "with open(cd_boundaries_filepath) as f:\n",
    "    cd_json = json.load(f)\n",
    "districts_of_interest = np.array([x['properties']['source_id'] for x in cd_json['features']])\n"
   ]
  },
  {
   "cell_type": "code",
   "execution_count": 17,
   "id": "3b0f2183",
   "metadata": {},
   "outputs": [],
   "source": [
    "sub_size = int(heat_all_landsats.shape[0]/2)\n",
    "heat_all_landsats_small = heat_all_landsats.iloc[np.random.choice(np.arange(heat_all_landsats.shape[0]), replace=False, size=sub_size),:]\n",
    "heat_all_landsats_small = heat_all_landsats_small.drop(columns=[\"Coord\"])"
   ]
  },
  {
   "cell_type": "code",
   "execution_count": 20,
   "id": "8e7fb070",
   "metadata": {},
   "outputs": [
    {
     "name": "stdout",
     "output_type": "stream",
     "text": [
      "-4.0540858949996945 4.0380301925897015\n"
     ]
    }
   ],
   "source": [
    "# Convert Temperatures to F, ZScore\n",
    "plot_zscore = True \n",
    "\n",
    "degrees='F'\n",
    "if degrees == 'C':\n",
    "    pass\n",
    "elif degrees == 'F':\n",
    "    heat_all_landsats_small['ST_B10'] = [(x * 9/5) + 32 for x in heat_all_landsats_small['ST_B10']]\n",
    "else:\n",
    "    raise Exception('Invalid Temperature Scale. Must be C or F.')\n",
    "\n",
    "# ZScore if necessary\n",
    "if plot_zscore:\n",
    "    heat_all_landsats_small['ST_B10'] = zscore(heat_all_landsats_small['ST_B10'])\n",
    "\n",
    "zmin = heat_all_landsats_small['ST_B10'].min()\n",
    "zmax = heat_all_landsats_small['ST_B10'].max()\n",
    "print(zmin, zmax)"
   ]
  },
  {
   "cell_type": "code",
   "execution_count": 21,
   "id": "56300256",
   "metadata": {},
   "outputs": [
    {
     "name": "stdout",
     "output_type": "stream",
     "text": [
      "check\n"
     ]
    }
   ],
   "source": [
    "#Plot City-wide heatmap (with community/council district boundaries)\n",
    "var_to_plot = 'ST_B10'\n",
    "plot_district_outlines = True\n",
    "\n",
    "fig = go.Figure()\n",
    "fig.add_trace(go.Scattermapbox(lat=heat_all_landsats_small['Lat'], lon=heat_all_landsats_small['Long'], mode= 'markers',\n",
    "                               marker=dict(color=heat_all_landsats_small[var_to_plot],size=5, colorscale='RdYlBu_r', cmin=zmin, cmax=zmax, opacity=1), hoverinfo='skip'))\n",
    "\n",
    "colorbar_trace  = go.Scatter(x=[None], y=[None], mode='markers', hoverinfo='none',\n",
    "                            marker=dict(colorscale='RdYlBu_r', showscale=True,\n",
    "                                         #cmin=landsat_pixel_df[var_to_plot].min(), cmax=landsat_pixel_df[var_to_plot].max(),\n",
    "                                         #colorbar=dict(thickness=20, tickvals=[landsat_pixel_df[var_to_plot].min(), landsat_pixel_df[var_to_plot].max()], ticktext=['Low', 'High'], outlinewidth=0)\n",
    "                                         cmin=zmin, cmax=zmax,\n",
    "                                         colorbar=dict(thickness=20, tickvals=[zmin,zmax], outlinewidth=0, tickfont=dict(size=20),\n",
    "                                                       ticktext=[np.round(zmin,1),np.round(zmax,1)])))\n",
    "                                                       #ticktext=['Low','High'])))\n",
    "fig['layout']['showlegend'] = False\n",
    "fig.add_trace(colorbar_trace)\n",
    "print (\"check\")\n",
    "\n",
    "if plot_district_outlines:\n",
    "    for i, district in enumerate(districts_of_interest):\n",
    "        district_polygons = cd_json['features'][np.argwhere(districts_of_interest == district)[0][0]]['geometry']['coordinates']\n",
    "        for polygon in district_polygons:\n",
    "            fig.add_trace(go.Scattermapbox(\n",
    "                fill = \"none\",\n",
    "                lon = [p[0] for p in polygon[0]],\n",
    "                lat = [p[1] for p in polygon[0]],\n",
    "                mode='lines',\n",
    "                #line = dict(width=0.1, color='black'), \n",
    "                line = dict(width=0.5, color='black'), hoverinfo='skip', \n",
    "                name=None))\n",
    "\n",
    "fig.update_layout(\n",
    "    geo_scope='usa', title_text='LANDSAT 8 Surface Temperature for 05/01-09/01 Averaged from 2017-2021',\n",
    "    mapbox = {\n",
    "        'accesstoken': mapbox_accesstoken,\n",
    "        'style': 'carto-positron', #carto-positron, carto-darkmatter, dark, satellite, satellite-streets, streets, outdoors, basic\n",
    "        'center': {'lon': -73.95, 'lat': 40.7 },\n",
    "        'zoom': 9.9},\n",
    "    width=1500, height=1200, template='none')\n",
    "fig.update_xaxes(showticklabels=False)\n",
    "fig.update_yaxes(showticklabels=False)\n",
    "# fig.show(renderer='notebook_connected', config={'scrollZoom': False})\n",
    "# fig.show(renderer='png')\n",
    "fig.write_html(r'Planimetric Map Overlays\\50 Biggest Parking Lots Overlay.html') #, scale=5)"
   ]
  }
 ],
 "metadata": {
  "kernelspec": {
   "display_name": "Python 3",
   "language": "python",
   "name": "python3"
  },
  "language_info": {
   "codemirror_mode": {
    "name": "ipython",
    "version": 3
   },
   "file_extension": ".py",
   "mimetype": "text/x-python",
   "name": "python",
   "nbconvert_exporter": "python",
   "pygments_lexer": "ipython3",
   "version": "3.7.3"
  }
 },
 "nbformat": 4,
 "nbformat_minor": 5
}
